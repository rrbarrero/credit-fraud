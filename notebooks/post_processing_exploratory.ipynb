{
 "cells": [
  {
   "cell_type": "code",
   "execution_count": 8,
   "id": "2ad453dc-c2f9-4883-98b8-526fad38a697",
   "metadata": {},
   "outputs": [],
   "source": [
    "import sys\n",
    "from pathlib import Path\n",
    "import polars as pl\n",
    "import matplotlib.pyplot as plt\n",
    "\n",
    "parent_dir = Path.cwd().parent\n",
    "project_src = f\"{parent_dir}/src\"\n",
    "\n",
    "if str(project_src) not in sys.path:\n",
    "    sys.path.append(str(project_src))"
   ]
  },
  {
   "cell_type": "code",
   "execution_count": 18,
   "id": "d0b2ef35-178e-41ea-a23c-108916b994c7",
   "metadata": {},
   "outputs": [],
   "source": [
    "from factory import create_default_data_pipeline\n",
    "from config import settings"
   ]
  },
  {
   "cell_type": "code",
   "execution_count": 11,
   "id": "16a40069-2098-47db-a03c-f64a1f8c0678",
   "metadata": {},
   "outputs": [],
   "source": [
    "dataset_pipeline = create_default_data_pipeline()"
   ]
  },
  {
   "cell_type": "code",
   "execution_count": 12,
   "id": "1aa4a798-f3ba-4644-97f8-50cde97d0817",
   "metadata": {},
   "outputs": [
    {
     "data": {
      "text/html": [
       "<div><style>\n",
       ".dataframe > thead > tr,\n",
       ".dataframe > tbody > tr {\n",
       "  text-align: right;\n",
       "  white-space: pre-wrap;\n",
       "}\n",
       "</style>\n",
       "<small>shape: (9, 39)</small><table border=\"1\" class=\"dataframe\"><thead><tr><th>statistic</th><th>Time</th><th>V1</th><th>V2</th><th>V3</th><th>V4</th><th>V5</th><th>V6</th><th>V7</th><th>V8</th><th>V9</th><th>V10</th><th>V11</th><th>V12</th><th>V13</th><th>V14</th><th>V15</th><th>V16</th><th>V17</th><th>V18</th><th>V19</th><th>V20</th><th>V21</th><th>V22</th><th>V23</th><th>V24</th><th>V25</th><th>V26</th><th>V27</th><th>V28</th><th>Amount</th><th>Class</th><th>TimeHours</th><th>HourOfDay</th><th>TimeSincePrevSec</th><th>TxnTimeSec</th><th>isNight</th><th>amountLog</th><th>amountBin</th></tr><tr><td>str</td><td>f64</td><td>f64</td><td>f64</td><td>f64</td><td>f64</td><td>f64</td><td>f64</td><td>f64</td><td>f64</td><td>f64</td><td>f64</td><td>f64</td><td>f64</td><td>f64</td><td>f64</td><td>f64</td><td>f64</td><td>f64</td><td>f64</td><td>f64</td><td>f64</td><td>f64</td><td>f64</td><td>f64</td><td>f64</td><td>f64</td><td>f64</td><td>f64</td><td>f64</td><td>f64</td><td>f64</td><td>f64</td><td>f64</td><td>f64</td><td>f64</td><td>f64</td><td>f64</td><td>str</td></tr></thead><tbody><tr><td>&quot;count&quot;</td><td>283726.0</td><td>283726.0</td><td>283726.0</td><td>283726.0</td><td>283726.0</td><td>283726.0</td><td>283726.0</td><td>283726.0</td><td>283726.0</td><td>283726.0</td><td>283726.0</td><td>283726.0</td><td>283726.0</td><td>283726.0</td><td>283726.0</td><td>283726.0</td><td>283726.0</td><td>283726.0</td><td>283726.0</td><td>283726.0</td><td>283726.0</td><td>283726.0</td><td>283726.0</td><td>283726.0</td><td>283726.0</td><td>283726.0</td><td>283726.0</td><td>283726.0</td><td>283726.0</td><td>283726.0</td><td>283726.0</td><td>283726.0</td><td>283726.0</td><td>283726.0</td><td>283726.0</td><td>283726.0</td><td>283726.0</td><td>&quot;283726&quot;</td></tr><tr><td>&quot;null_count&quot;</td><td>0.0</td><td>0.0</td><td>0.0</td><td>0.0</td><td>0.0</td><td>0.0</td><td>0.0</td><td>0.0</td><td>0.0</td><td>0.0</td><td>0.0</td><td>0.0</td><td>0.0</td><td>0.0</td><td>0.0</td><td>0.0</td><td>0.0</td><td>0.0</td><td>0.0</td><td>0.0</td><td>0.0</td><td>0.0</td><td>0.0</td><td>0.0</td><td>0.0</td><td>0.0</td><td>0.0</td><td>0.0</td><td>0.0</td><td>0.0</td><td>0.0</td><td>0.0</td><td>0.0</td><td>0.0</td><td>0.0</td><td>0.0</td><td>0.0</td><td>&quot;0&quot;</td></tr><tr><td>&quot;mean&quot;</td><td>94811.0776</td><td>0.005917</td><td>-0.004135</td><td>0.001613</td><td>-0.002966</td><td>0.001828</td><td>-0.001139</td><td>0.001801</td><td>-0.000854</td><td>-0.001596</td><td>-0.001441</td><td>0.000202</td><td>-0.000715</td><td>0.000603</td><td>0.000252</td><td>0.001043</td><td>0.001162</td><td>0.00017</td><td>0.001515</td><td>-0.000264</td><td>0.000187</td><td>-0.000371</td><td>-0.000015</td><td>0.000198</td><td>0.000214</td><td>-0.000232</td><td>0.000149</td><td>0.001763</td><td>0.000547</td><td>88.472687</td><td>0.001667</td><td>14.537139</td><td>26.33641</td><td>0.60901</td><td>52333.70154</td><td>1.0</td><td>3.15376</td><td>null</td></tr><tr><td>&quot;std&quot;</td><td>47481.047891</td><td>1.948026</td><td>1.646703</td><td>1.508682</td><td>1.414184</td><td>1.377008</td><td>1.331931</td><td>1.227664</td><td>1.179054</td><td>1.095492</td><td>1.076407</td><td>1.01872</td><td>0.994674</td><td>0.99543</td><td>0.952215</td><td>0.914894</td><td>0.873696</td><td>0.842507</td><td>0.837378</td><td>0.813379</td><td>0.769984</td><td>0.723909</td><td>0.72455</td><td>0.623702</td><td>0.605627</td><td>0.52122</td><td>0.482053</td><td>0.395744</td><td>0.328027</td><td>250.399437</td><td>0.040796</td><td>5.846094</td><td>13.18918</td><td>1.054718</td><td>21045.940171</td><td>0.0</td><td>1.65708</td><td>null</td></tr><tr><td>&quot;min&quot;</td><td>0.0</td><td>-56.40751</td><td>-72.715728</td><td>-48.325589</td><td>-5.683171</td><td>-113.743307</td><td>-26.160506</td><td>-43.557242</td><td>-73.216718</td><td>-13.434066</td><td>-24.588262</td><td>-4.797473</td><td>-18.683715</td><td>-5.791881</td><td>-19.214325</td><td>-4.498945</td><td>-14.129855</td><td>-25.162799</td><td>-9.498746</td><td>-7.213527</td><td>-54.49772</td><td>-34.830382</td><td>-10.933144</td><td>-44.807735</td><td>-2.836627</td><td>-10.295397</td><td>-2.604551</td><td>-22.565679</td><td>-15.430084</td><td>0.0</td><td>0.0</td><td>0.0</td><td>0.0</td><td>0.0</td><td>0.0</td><td>1.0</td><td>0.0</td><td>&quot;10-50&quot;</td></tr><tr><td>&quot;25%&quot;</td><td>54204.0</td><td>-0.915954</td><td>-0.600324</td><td>-0.889684</td><td>-0.850137</td><td>-0.689836</td><td>-0.769031</td><td>-0.552516</td><td>-0.208828</td><td>-0.644221</td><td>-0.535582</td><td>-0.76165</td><td>-0.4062</td><td>-0.647867</td><td>-0.425735</td><td>-0.58146</td><td>-0.46686</td><td>-0.483931</td><td>-0.498016</td><td>-0.456291</td><td>-0.211471</td><td>-0.228305</td><td>-0.542703</td><td>-0.161705</td><td>-0.354456</td><td>-0.317488</td><td>-0.326764</td><td>-0.070642</td><td>-0.052818</td><td>5.6</td><td>0.0</td><td>10.5975</td><td>15.056667</td><td>0.0</td><td>38151.0</td><td>1.0</td><td>1.88707</td><td>null</td></tr><tr><td>&quot;50%&quot;</td><td>84693.0</td><td>0.020386</td><td>0.063952</td><td>0.179967</td><td>-0.02224</td><td>-0.053466</td><td>-0.275167</td><td>0.040862</td><td>0.021899</td><td>-0.052596</td><td>-0.093236</td><td>-0.032302</td><td>0.139074</td><td>-0.012917</td><td>0.050216</td><td>0.0493</td><td>0.067119</td><td>-0.065865</td><td>-0.002136</td><td>0.003371</td><td>-0.062353</td><td>-0.02944</td><td>0.006675</td><td>-0.011157</td><td>0.041016</td><td>0.016281</td><td>-0.05217</td><td>0.001479</td><td>0.011288</td><td>22.0</td><td>0.0</td><td>15.008889</td><td>23.525833</td><td>0.0</td><td>54032.0</td><td>1.0</td><td>3.135494</td><td>null</td></tr><tr><td>&quot;75%&quot;</td><td>139298.0</td><td>1.316069</td><td>0.800283</td><td>1.026962</td><td>0.739654</td><td>0.612223</td><td>0.396794</td><td>0.570475</td><td>0.325708</td><td>0.595978</td><td>0.45362</td><td>0.739582</td><td>0.616979</td><td>0.663182</td><td>0.492336</td><td>0.65011</td><td>0.523512</td><td>0.398974</td><td>0.501956</td><td>0.458509</td><td>0.133208</td><td>0.186195</td><td>0.528245</td><td>0.147749</td><td>0.439748</td><td>0.350668</td><td>0.240262</td><td>0.091209</td><td>0.078276</td><td>77.51</td><td>0.0</td><td>19.329167</td><td>38.693889</td><td>1.0</td><td>69585.0</td><td>1.0</td><td>4.363226</td><td>null</td></tr><tr><td>&quot;max&quot;</td><td>172792.0</td><td>2.45493</td><td>22.057729</td><td>9.382558</td><td>16.875344</td><td>34.801666</td><td>73.301626</td><td>120.589494</td><td>20.007208</td><td>15.594995</td><td>23.745136</td><td>12.018913</td><td>7.848392</td><td>7.126883</td><td>10.526766</td><td>8.877742</td><td>17.315112</td><td>9.253526</td><td>5.041069</td><td>5.591971</td><td>39.420904</td><td>27.202839</td><td>10.50309</td><td>22.528412</td><td>4.584549</td><td>7.519589</td><td>3.517346</td><td>31.612198</td><td>33.847808</td><td>25691.16</td><td>1.0</td><td>23.999444</td><td>47.997778</td><td>32.0</td><td>86398.0</td><td>1.0</td><td>10.153941</td><td>&quot;lt10&quot;</td></tr></tbody></table></div>"
      ],
      "text/plain": [
       "shape: (9, 39)\n",
       "┌───────────┬───────────┬───────────┬───────────┬───┬───────────┬──────────┬───────────┬───────────┐\n",
       "│ statistic ┆ Time      ┆ V1        ┆ V2        ┆ … ┆ TxnTimeSe ┆ isNight  ┆ amountLog ┆ amountBin │\n",
       "│ ---       ┆ ---       ┆ ---       ┆ ---       ┆   ┆ c         ┆ ---      ┆ ---       ┆ ---       │\n",
       "│ str       ┆ f64       ┆ f64       ┆ f64       ┆   ┆ ---       ┆ f64      ┆ f64       ┆ str       │\n",
       "│           ┆           ┆           ┆           ┆   ┆ f64       ┆          ┆           ┆           │\n",
       "╞═══════════╪═══════════╪═══════════╪═══════════╪═══╪═══════════╪══════════╪═══════════╪═══════════╡\n",
       "│ count     ┆ 283726.0  ┆ 283726.0  ┆ 283726.0  ┆ … ┆ 283726.0  ┆ 283726.0 ┆ 283726.0  ┆ 283726    │\n",
       "│ null_coun ┆ 0.0       ┆ 0.0       ┆ 0.0       ┆ … ┆ 0.0       ┆ 0.0      ┆ 0.0       ┆ 0         │\n",
       "│ t         ┆           ┆           ┆           ┆   ┆           ┆          ┆           ┆           │\n",
       "│ mean      ┆ 94811.077 ┆ 0.005917  ┆ -0.004135 ┆ … ┆ 52333.701 ┆ 1.0      ┆ 3.15376   ┆ null      │\n",
       "│           ┆ 6         ┆           ┆           ┆   ┆ 54        ┆          ┆           ┆           │\n",
       "│ std       ┆ 47481.047 ┆ 1.948026  ┆ 1.646703  ┆ … ┆ 21045.940 ┆ 0.0      ┆ 1.65708   ┆ null      │\n",
       "│           ┆ 891       ┆           ┆           ┆   ┆ 171       ┆          ┆           ┆           │\n",
       "│ min       ┆ 0.0       ┆ -56.40751 ┆ -72.71572 ┆ … ┆ 0.0       ┆ 1.0      ┆ 0.0       ┆ 10-50     │\n",
       "│           ┆           ┆           ┆ 8         ┆   ┆           ┆          ┆           ┆           │\n",
       "│ 25%       ┆ 54204.0   ┆ -0.915954 ┆ -0.600324 ┆ … ┆ 38151.0   ┆ 1.0      ┆ 1.88707   ┆ null      │\n",
       "│ 50%       ┆ 84693.0   ┆ 0.020386  ┆ 0.063952  ┆ … ┆ 54032.0   ┆ 1.0      ┆ 3.135494  ┆ null      │\n",
       "│ 75%       ┆ 139298.0  ┆ 1.316069  ┆ 0.800283  ┆ … ┆ 69585.0   ┆ 1.0      ┆ 4.363226  ┆ null      │\n",
       "│ max       ┆ 172792.0  ┆ 2.45493   ┆ 22.057729 ┆ … ┆ 86398.0   ┆ 1.0      ┆ 10.153941 ┆ lt10      │\n",
       "└───────────┴───────────┴───────────┴───────────┴───┴───────────┴──────────┴───────────┴───────────┘"
      ]
     },
     "execution_count": 12,
     "metadata": {},
     "output_type": "execute_result"
    }
   ],
   "source": [
    "dataset_pipeline.df.describe()"
   ]
  },
  {
   "cell_type": "markdown",
   "id": "4cabc110-aa5a-4074-80d5-ddb59ad6246a",
   "metadata": {},
   "source": [
    "## Gridsearch for optimal parameter tunning"
   ]
  },
  {
   "cell_type": "code",
   "execution_count": 13,
   "id": "f89c03bf-b211-4ee5-85e7-e27f64ad74e1",
   "metadata": {},
   "outputs": [],
   "source": [
    "from sklearn.model_selection import GridSearchCV, StratifiedKFold\n",
    "from xgboost import XGBClassifier\n",
    "from sklearn.pipeline import Pipeline\n",
    "import numpy as np"
   ]
  },
  {
   "cell_type": "code",
   "execution_count": 14,
   "id": "dfd50f5a-3e42-43f5-8c58-715aac11b410",
   "metadata": {},
   "outputs": [],
   "source": [
    "# Define the parameter grid to search\n",
    "param_grid = {\n",
    "    'clf__n_estimators': [100, 200, 300],\n",
    "    'clf__learning_rate': [0.01, 0.05, 0.1],\n",
    "    'clf__max_depth': [3, 5, 7],\n",
    "    'clf__subsample': [0.7, 0.8, 0.9],\n",
    "    'clf__colsample_bytree': [0.7, 0.8, 0.9],\n",
    "    'clf__gamma': [0, 0.1, 0.2]\n",
    "}"
   ]
  },
  {
   "cell_type": "code",
   "execution_count": 16,
   "id": "eb4c781e-df00-41b8-9537-df5add9762eb",
   "metadata": {},
   "outputs": [
    {
     "name": "stdout",
     "output_type": "stream",
     "text": [
      "Cache not found. Continuing normal flow...\n"
     ]
    }
   ],
   "source": [
    "X_train, X_test, y_train, y_test = dataset_pipeline.split(\n",
    "    test_size=0.3, use_cache=True\n",
    ")\n",
    "\n",
    "neg, pos = (len(y_train) - sum(y_train)), sum(y_train)\n",
    "scale_pos_weight = neg / pos\n"
   ]
  },
  {
   "cell_type": "code",
   "execution_count": 23,
   "id": "dab888f6-b053-4bc0-853e-f3664bad6b30",
   "metadata": {},
   "outputs": [],
   "source": [
    "model_for_tuning = Pipeline(\n",
    "    [\n",
    "        (\n",
    "            \"clf\",\n",
    "            XGBClassifier(\n",
    "                objective=\"binary:logistic\",\n",
    "                eval_metric=\"logloss\",\n",
    "                scale_pos_weight=scale_pos_weight,\n",
    "                random_state=settings.random_state,\n",
    "                n_jobs=-1,\n",
    "                tree_method='hist',\n",
    "                device='cuda'\n",
    "            ),\n",
    "        )\n",
    "    ]\n",
    ")"
   ]
  },
  {
   "cell_type": "code",
   "execution_count": 24,
   "id": "4d1849a9-056b-4ca2-8b2c-4459649a9b77",
   "metadata": {},
   "outputs": [],
   "source": [
    "cv = StratifiedKFold(n_splits=5, shuffle=True, random_state=settings.random_state)\n",
    "\n",
    "grid_search = GridSearchCV(\n",
    "    estimator=model_for_tuning,\n",
    "    param_grid=param_grid,\n",
    "    scoring='recall',  # Or 'f1' or 'roc_auc' - choose based on your priority\n",
    "    cv=cv,\n",
    "    verbose=1,\n",
    "    n_jobs=-1  # Use all available cores\n",
    ")"
   ]
  },
  {
   "cell_type": "code",
   "execution_count": null,
   "id": "90517772-1dbf-46d1-b634-46c0d8908475",
   "metadata": {},
   "outputs": [],
   "source": [
    "grid_search.fit(X_train, y_train)"
   ]
  }
 ],
 "metadata": {
  "kernelspec": {
   "display_name": "Python 3 (ipykernel)",
   "language": "python",
   "name": "python3"
  },
  "language_info": {
   "codemirror_mode": {
    "name": "ipython",
    "version": 3
   },
   "file_extension": ".py",
   "mimetype": "text/x-python",
   "name": "python",
   "nbconvert_exporter": "python",
   "pygments_lexer": "ipython3",
   "version": "3.13.2"
  }
 },
 "nbformat": 4,
 "nbformat_minor": 5
}
