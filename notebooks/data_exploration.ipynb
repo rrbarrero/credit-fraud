{
 "cells": [
  {
   "cell_type": "code",
   "execution_count": 1,
   "id": "06f5acf2-8e41-4743-ae5f-897e15070c58",
   "metadata": {},
   "outputs": [],
   "source": [
    "import sys\n",
    "from pathlib import Path\n",
    "\n",
    "parent_dir = Path.cwd().parent\n",
    "\n",
    "if str(parent_dir) not in sys.path:\n",
    "    sys.path.append(str(parent_dir))"
   ]
  },
  {
   "cell_type": "code",
   "execution_count": 4,
   "id": "8035b79d-90df-4597-ae68-896ba920c3af",
   "metadata": {},
   "outputs": [],
   "source": [
    "from src.config import settings\n",
    "from src.utils.filesystem_utils import load_dataset"
   ]
  },
  {
   "cell_type": "code",
   "execution_count": 5,
   "id": "5ad9cb1a-bc9e-4b41-8cbd-da727c097e6a",
   "metadata": {},
   "outputs": [],
   "source": [
    "df = load_dataset(str(settings.data_path / \"creditcard.csv.zip\"))"
   ]
  },
  {
   "cell_type": "code",
   "execution_count": 6,
   "id": "ba097baa-2518-4677-a0aa-dbee3ef28716",
   "metadata": {},
   "outputs": [
    {
     "data": {
      "text/html": [
       "<div><style>\n",
       ".dataframe > thead > tr,\n",
       ".dataframe > tbody > tr {\n",
       "  text-align: right;\n",
       "  white-space: pre-wrap;\n",
       "}\n",
       "</style>\n",
       "<small>shape: (284_807, 31)</small><table border=\"1\" class=\"dataframe\"><thead><tr><th>Time</th><th>V1</th><th>V2</th><th>V3</th><th>V4</th><th>V5</th><th>V6</th><th>V7</th><th>V8</th><th>V9</th><th>V10</th><th>V11</th><th>V12</th><th>V13</th><th>V14</th><th>V15</th><th>V16</th><th>V17</th><th>V18</th><th>V19</th><th>V20</th><th>V21</th><th>V22</th><th>V23</th><th>V24</th><th>V25</th><th>V26</th><th>V27</th><th>V28</th><th>Amount</th><th>Class</th></tr><tr><td>f64</td><td>f64</td><td>f64</td><td>f64</td><td>f64</td><td>f64</td><td>f64</td><td>f64</td><td>f64</td><td>f64</td><td>f64</td><td>f64</td><td>f64</td><td>f64</td><td>f64</td><td>f64</td><td>f64</td><td>f64</td><td>f64</td><td>f64</td><td>f64</td><td>f64</td><td>f64</td><td>f64</td><td>f64</td><td>f64</td><td>f64</td><td>f64</td><td>f64</td><td>f64</td><td>i64</td></tr></thead><tbody><tr><td>0.0</td><td>-1.359807</td><td>-0.072781</td><td>2.536347</td><td>1.378155</td><td>-0.338321</td><td>0.462388</td><td>0.239599</td><td>0.098698</td><td>0.363787</td><td>0.090794</td><td>-0.5516</td><td>-0.617801</td><td>-0.99139</td><td>-0.311169</td><td>1.468177</td><td>-0.470401</td><td>0.207971</td><td>0.025791</td><td>0.403993</td><td>0.251412</td><td>-0.018307</td><td>0.277838</td><td>-0.110474</td><td>0.066928</td><td>0.128539</td><td>-0.189115</td><td>0.133558</td><td>-0.021053</td><td>149.62</td><td>0</td></tr><tr><td>0.0</td><td>1.191857</td><td>0.266151</td><td>0.16648</td><td>0.448154</td><td>0.060018</td><td>-0.082361</td><td>-0.078803</td><td>0.085102</td><td>-0.255425</td><td>-0.166974</td><td>1.612727</td><td>1.065235</td><td>0.489095</td><td>-0.143772</td><td>0.635558</td><td>0.463917</td><td>-0.114805</td><td>-0.183361</td><td>-0.145783</td><td>-0.069083</td><td>-0.225775</td><td>-0.638672</td><td>0.101288</td><td>-0.339846</td><td>0.16717</td><td>0.125895</td><td>-0.008983</td><td>0.014724</td><td>2.69</td><td>0</td></tr><tr><td>1.0</td><td>-1.358354</td><td>-1.340163</td><td>1.773209</td><td>0.37978</td><td>-0.503198</td><td>1.800499</td><td>0.791461</td><td>0.247676</td><td>-1.514654</td><td>0.207643</td><td>0.624501</td><td>0.066084</td><td>0.717293</td><td>-0.165946</td><td>2.345865</td><td>-2.890083</td><td>1.109969</td><td>-0.121359</td><td>-2.261857</td><td>0.52498</td><td>0.247998</td><td>0.771679</td><td>0.909412</td><td>-0.689281</td><td>-0.327642</td><td>-0.139097</td><td>-0.055353</td><td>-0.059752</td><td>378.66</td><td>0</td></tr><tr><td>1.0</td><td>-0.966272</td><td>-0.185226</td><td>1.792993</td><td>-0.863291</td><td>-0.010309</td><td>1.247203</td><td>0.237609</td><td>0.377436</td><td>-1.387024</td><td>-0.054952</td><td>-0.226487</td><td>0.178228</td><td>0.507757</td><td>-0.287924</td><td>-0.631418</td><td>-1.059647</td><td>-0.684093</td><td>1.965775</td><td>-1.232622</td><td>-0.208038</td><td>-0.1083</td><td>0.005274</td><td>-0.190321</td><td>-1.175575</td><td>0.647376</td><td>-0.221929</td><td>0.062723</td><td>0.061458</td><td>123.5</td><td>0</td></tr><tr><td>2.0</td><td>-1.158233</td><td>0.877737</td><td>1.548718</td><td>0.403034</td><td>-0.407193</td><td>0.095921</td><td>0.592941</td><td>-0.270533</td><td>0.817739</td><td>0.753074</td><td>-0.822843</td><td>0.538196</td><td>1.345852</td><td>-1.11967</td><td>0.175121</td><td>-0.451449</td><td>-0.237033</td><td>-0.038195</td><td>0.803487</td><td>0.408542</td><td>-0.009431</td><td>0.798278</td><td>-0.137458</td><td>0.141267</td><td>-0.20601</td><td>0.502292</td><td>0.219422</td><td>0.215153</td><td>69.99</td><td>0</td></tr><tr><td>&hellip;</td><td>&hellip;</td><td>&hellip;</td><td>&hellip;</td><td>&hellip;</td><td>&hellip;</td><td>&hellip;</td><td>&hellip;</td><td>&hellip;</td><td>&hellip;</td><td>&hellip;</td><td>&hellip;</td><td>&hellip;</td><td>&hellip;</td><td>&hellip;</td><td>&hellip;</td><td>&hellip;</td><td>&hellip;</td><td>&hellip;</td><td>&hellip;</td><td>&hellip;</td><td>&hellip;</td><td>&hellip;</td><td>&hellip;</td><td>&hellip;</td><td>&hellip;</td><td>&hellip;</td><td>&hellip;</td><td>&hellip;</td><td>&hellip;</td><td>&hellip;</td></tr><tr><td>172786.0</td><td>-11.881118</td><td>10.071785</td><td>-9.834783</td><td>-2.066656</td><td>-5.364473</td><td>-2.606837</td><td>-4.918215</td><td>7.305334</td><td>1.914428</td><td>4.35617</td><td>-1.593105</td><td>2.711941</td><td>-0.689256</td><td>4.626942</td><td>-0.924459</td><td>1.107641</td><td>1.991691</td><td>0.510632</td><td>-0.68292</td><td>1.475829</td><td>0.213454</td><td>0.111864</td><td>1.01448</td><td>-0.509348</td><td>1.436807</td><td>0.250034</td><td>0.943651</td><td>0.823731</td><td>0.77</td><td>0</td></tr><tr><td>172787.0</td><td>-0.732789</td><td>-0.05508</td><td>2.03503</td><td>-0.738589</td><td>0.868229</td><td>1.058415</td><td>0.02433</td><td>0.294869</td><td>0.5848</td><td>-0.975926</td><td>-0.150189</td><td>0.915802</td><td>1.214756</td><td>-0.675143</td><td>1.164931</td><td>-0.711757</td><td>-0.025693</td><td>-1.221179</td><td>-1.545556</td><td>0.059616</td><td>0.214205</td><td>0.924384</td><td>0.012463</td><td>-1.016226</td><td>-0.606624</td><td>-0.395255</td><td>0.068472</td><td>-0.053527</td><td>24.79</td><td>0</td></tr><tr><td>172788.0</td><td>1.919565</td><td>-0.301254</td><td>-3.24964</td><td>-0.557828</td><td>2.630515</td><td>3.03126</td><td>-0.296827</td><td>0.708417</td><td>0.432454</td><td>-0.484782</td><td>0.411614</td><td>0.063119</td><td>-0.183699</td><td>-0.510602</td><td>1.329284</td><td>0.140716</td><td>0.313502</td><td>0.395652</td><td>-0.577252</td><td>0.001396</td><td>0.232045</td><td>0.578229</td><td>-0.037501</td><td>0.640134</td><td>0.265745</td><td>-0.087371</td><td>0.004455</td><td>-0.026561</td><td>67.88</td><td>0</td></tr><tr><td>172788.0</td><td>-0.24044</td><td>0.530483</td><td>0.70251</td><td>0.689799</td><td>-0.377961</td><td>0.623708</td><td>-0.68618</td><td>0.679145</td><td>0.392087</td><td>-0.399126</td><td>-1.933849</td><td>-0.962886</td><td>-1.042082</td><td>0.449624</td><td>1.962563</td><td>-0.608577</td><td>0.509928</td><td>1.113981</td><td>2.897849</td><td>0.127434</td><td>0.265245</td><td>0.800049</td><td>-0.163298</td><td>0.123205</td><td>-0.569159</td><td>0.546668</td><td>0.108821</td><td>0.104533</td><td>10.0</td><td>0</td></tr><tr><td>172792.0</td><td>-0.533413</td><td>-0.189733</td><td>0.703337</td><td>-0.506271</td><td>-0.012546</td><td>-0.649617</td><td>1.577006</td><td>-0.41465</td><td>0.48618</td><td>-0.915427</td><td>-1.040458</td><td>-0.031513</td><td>-0.188093</td><td>-0.084316</td><td>0.041333</td><td>-0.30262</td><td>-0.660377</td><td>0.16743</td><td>-0.256117</td><td>0.382948</td><td>0.261057</td><td>0.643078</td><td>0.376777</td><td>0.008797</td><td>-0.473649</td><td>-0.818267</td><td>-0.002415</td><td>0.013649</td><td>217.0</td><td>0</td></tr></tbody></table></div>"
      ],
      "text/plain": [
       "shape: (284_807, 31)\n",
       "┌──────────┬────────────┬───────────┬───────────┬───┬───────────┬───────────┬────────┬───────┐\n",
       "│ Time     ┆ V1         ┆ V2        ┆ V3        ┆ … ┆ V27       ┆ V28       ┆ Amount ┆ Class │\n",
       "│ ---      ┆ ---        ┆ ---       ┆ ---       ┆   ┆ ---       ┆ ---       ┆ ---    ┆ ---   │\n",
       "│ f64      ┆ f64        ┆ f64       ┆ f64       ┆   ┆ f64       ┆ f64       ┆ f64    ┆ i64   │\n",
       "╞══════════╪════════════╪═══════════╪═══════════╪═══╪═══════════╪═══════════╪════════╪═══════╡\n",
       "│ 0.0      ┆ -1.359807  ┆ -0.072781 ┆ 2.536347  ┆ … ┆ 0.133558  ┆ -0.021053 ┆ 149.62 ┆ 0     │\n",
       "│ 0.0      ┆ 1.191857   ┆ 0.266151  ┆ 0.16648   ┆ … ┆ -0.008983 ┆ 0.014724  ┆ 2.69   ┆ 0     │\n",
       "│ 1.0      ┆ -1.358354  ┆ -1.340163 ┆ 1.773209  ┆ … ┆ -0.055353 ┆ -0.059752 ┆ 378.66 ┆ 0     │\n",
       "│ 1.0      ┆ -0.966272  ┆ -0.185226 ┆ 1.792993  ┆ … ┆ 0.062723  ┆ 0.061458  ┆ 123.5  ┆ 0     │\n",
       "│ 2.0      ┆ -1.158233  ┆ 0.877737  ┆ 1.548718  ┆ … ┆ 0.219422  ┆ 0.215153  ┆ 69.99  ┆ 0     │\n",
       "│ …        ┆ …          ┆ …         ┆ …         ┆ … ┆ …         ┆ …         ┆ …      ┆ …     │\n",
       "│ 172786.0 ┆ -11.881118 ┆ 10.071785 ┆ -9.834783 ┆ … ┆ 0.943651  ┆ 0.823731  ┆ 0.77   ┆ 0     │\n",
       "│ 172787.0 ┆ -0.732789  ┆ -0.05508  ┆ 2.03503   ┆ … ┆ 0.068472  ┆ -0.053527 ┆ 24.79  ┆ 0     │\n",
       "│ 172788.0 ┆ 1.919565   ┆ -0.301254 ┆ -3.24964  ┆ … ┆ 0.004455  ┆ -0.026561 ┆ 67.88  ┆ 0     │\n",
       "│ 172788.0 ┆ -0.24044   ┆ 0.530483  ┆ 0.70251   ┆ … ┆ 0.108821  ┆ 0.104533  ┆ 10.0   ┆ 0     │\n",
       "│ 172792.0 ┆ -0.533413  ┆ -0.189733 ┆ 0.703337  ┆ … ┆ -0.002415 ┆ 0.013649  ┆ 217.0  ┆ 0     │\n",
       "└──────────┴────────────┴───────────┴───────────┴───┴───────────┴───────────┴────────┴───────┘"
      ]
     },
     "execution_count": 6,
     "metadata": {},
     "output_type": "execute_result"
    }
   ],
   "source": [
    "df"
   ]
  },
  {
   "cell_type": "code",
   "execution_count": null,
   "id": "20794d00-ca6c-466a-af17-ced17c7339b5",
   "metadata": {},
   "outputs": [],
   "source": []
  }
 ],
 "metadata": {
  "kernelspec": {
   "display_name": "Python 3 (ipykernel)",
   "language": "python",
   "name": "python3"
  },
  "language_info": {
   "codemirror_mode": {
    "name": "ipython",
    "version": 3
   },
   "file_extension": ".py",
   "mimetype": "text/x-python",
   "name": "python",
   "nbconvert_exporter": "python",
   "pygments_lexer": "ipython3",
   "version": "3.13.2"
  }
 },
 "nbformat": 4,
 "nbformat_minor": 5
}
